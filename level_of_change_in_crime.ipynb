{
 "cells": [
  {
   "cell_type": "code",
   "execution_count": 69,
   "metadata": {},
   "outputs": [],
   "source": [
    "import pandas as pd\n",
    "import matplotlib.pyplot as plt"
   ]
  },
  {
   "cell_type": "code",
   "execution_count": 25,
   "metadata": {},
   "outputs": [],
   "source": [
    "crime = pd.read_csv(\"data/CrimeData_new.csv\")"
   ]
  },
  {
   "cell_type": "code",
   "execution_count": 26,
   "metadata": {},
   "outputs": [
    {
     "data": {
      "text/html": [
       "<div>\n",
       "<style scoped>\n",
       "    .dataframe tbody tr th:only-of-type {\n",
       "        vertical-align: middle;\n",
       "    }\n",
       "\n",
       "    .dataframe tbody tr th {\n",
       "        vertical-align: top;\n",
       "    }\n",
       "\n",
       "    .dataframe thead th {\n",
       "        text-align: right;\n",
       "    }\n",
       "</style>\n",
       "<table border=\"1\" class=\"dataframe\">\n",
       "  <thead>\n",
       "    <tr style=\"text-align: right;\">\n",
       "      <th></th>\n",
       "      <th>report_id</th>\n",
       "      <th>Primary.Offense.Description</th>\n",
       "      <th>Neighborhood</th>\n",
       "      <th>Date</th>\n",
       "      <th>timing</th>\n",
       "    </tr>\n",
       "  </thead>\n",
       "  <tbody>\n",
       "    <tr>\n",
       "      <th>0</th>\n",
       "      <td>20080000465209</td>\n",
       "      <td>DUI-LIQUOR</td>\n",
       "      <td>CENTRAL AREA/SQUIRE PARK</td>\n",
       "      <td>12/1908</td>\n",
       "      <td>night</td>\n",
       "    </tr>\n",
       "    <tr>\n",
       "      <th>1</th>\n",
       "      <td>20100000202011</td>\n",
       "      <td>CHILD-OTHER</td>\n",
       "      <td>QUEEN ANNE</td>\n",
       "      <td>06/1964</td>\n",
       "      <td>night</td>\n",
       "    </tr>\n",
       "    <tr>\n",
       "      <th>2</th>\n",
       "      <td>2012000023437</td>\n",
       "      <td>SEXOFF-OTHER</td>\n",
       "      <td>NORTHGATE</td>\n",
       "      <td>01/1973</td>\n",
       "      <td>night</td>\n",
       "    </tr>\n",
       "    <tr>\n",
       "      <th>3</th>\n",
       "      <td>20130000327785</td>\n",
       "      <td>SEXOFF-OTHER</td>\n",
       "      <td>UNKNOWN</td>\n",
       "      <td>06/1974</td>\n",
       "      <td>night</td>\n",
       "    </tr>\n",
       "    <tr>\n",
       "      <th>4</th>\n",
       "      <td>20160000289384</td>\n",
       "      <td>SEXOFF-OTHER</td>\n",
       "      <td>UNKNOWN</td>\n",
       "      <td>01/1975</td>\n",
       "      <td>night</td>\n",
       "    </tr>\n",
       "  </tbody>\n",
       "</table>\n",
       "</div>"
      ],
      "text/plain": [
       "        report_id Primary.Offense.Description              Neighborhood  \\\n",
       "0  20080000465209                  DUI-LIQUOR  CENTRAL AREA/SQUIRE PARK   \n",
       "1  20100000202011                 CHILD-OTHER                QUEEN ANNE   \n",
       "2   2012000023437                SEXOFF-OTHER                 NORTHGATE   \n",
       "3  20130000327785                SEXOFF-OTHER                   UNKNOWN   \n",
       "4  20160000289384                SEXOFF-OTHER                   UNKNOWN   \n",
       "\n",
       "      Date timing  \n",
       "0  12/1908  night  \n",
       "1  06/1964  night  \n",
       "2  01/1973  night  \n",
       "3  06/1974  night  \n",
       "4  01/1975  night  "
      ]
     },
     "execution_count": 26,
     "metadata": {},
     "output_type": "execute_result"
    }
   ],
   "source": [
    "crime.head()"
   ]
  },
  {
   "cell_type": "code",
   "execution_count": 27,
   "metadata": {},
   "outputs": [],
   "source": [
    "crime['Year'] = crime['Date'].str[3:7]"
   ]
  },
  {
   "cell_type": "code",
   "execution_count": 28,
   "metadata": {},
   "outputs": [
    {
     "data": {
      "text/html": [
       "<div>\n",
       "<style scoped>\n",
       "    .dataframe tbody tr th:only-of-type {\n",
       "        vertical-align: middle;\n",
       "    }\n",
       "\n",
       "    .dataframe tbody tr th {\n",
       "        vertical-align: top;\n",
       "    }\n",
       "\n",
       "    .dataframe thead th {\n",
       "        text-align: right;\n",
       "    }\n",
       "</style>\n",
       "<table border=\"1\" class=\"dataframe\">\n",
       "  <thead>\n",
       "    <tr style=\"text-align: right;\">\n",
       "      <th></th>\n",
       "      <th>report_id</th>\n",
       "      <th>Primary.Offense.Description</th>\n",
       "      <th>Neighborhood</th>\n",
       "      <th>Date</th>\n",
       "      <th>timing</th>\n",
       "      <th>Year</th>\n",
       "    </tr>\n",
       "  </thead>\n",
       "  <tbody>\n",
       "    <tr>\n",
       "      <th>0</th>\n",
       "      <td>20080000465209</td>\n",
       "      <td>DUI-LIQUOR</td>\n",
       "      <td>CENTRAL AREA/SQUIRE PARK</td>\n",
       "      <td>12/1908</td>\n",
       "      <td>night</td>\n",
       "      <td>1908</td>\n",
       "    </tr>\n",
       "    <tr>\n",
       "      <th>1</th>\n",
       "      <td>20100000202011</td>\n",
       "      <td>CHILD-OTHER</td>\n",
       "      <td>QUEEN ANNE</td>\n",
       "      <td>06/1964</td>\n",
       "      <td>night</td>\n",
       "      <td>1964</td>\n",
       "    </tr>\n",
       "    <tr>\n",
       "      <th>2</th>\n",
       "      <td>2012000023437</td>\n",
       "      <td>SEXOFF-OTHER</td>\n",
       "      <td>NORTHGATE</td>\n",
       "      <td>01/1973</td>\n",
       "      <td>night</td>\n",
       "      <td>1973</td>\n",
       "    </tr>\n",
       "    <tr>\n",
       "      <th>3</th>\n",
       "      <td>20130000327785</td>\n",
       "      <td>SEXOFF-OTHER</td>\n",
       "      <td>UNKNOWN</td>\n",
       "      <td>06/1974</td>\n",
       "      <td>night</td>\n",
       "      <td>1974</td>\n",
       "    </tr>\n",
       "    <tr>\n",
       "      <th>4</th>\n",
       "      <td>20160000289384</td>\n",
       "      <td>SEXOFF-OTHER</td>\n",
       "      <td>UNKNOWN</td>\n",
       "      <td>01/1975</td>\n",
       "      <td>night</td>\n",
       "      <td>1975</td>\n",
       "    </tr>\n",
       "  </tbody>\n",
       "</table>\n",
       "</div>"
      ],
      "text/plain": [
       "        report_id Primary.Offense.Description              Neighborhood  \\\n",
       "0  20080000465209                  DUI-LIQUOR  CENTRAL AREA/SQUIRE PARK   \n",
       "1  20100000202011                 CHILD-OTHER                QUEEN ANNE   \n",
       "2   2012000023437                SEXOFF-OTHER                 NORTHGATE   \n",
       "3  20130000327785                SEXOFF-OTHER                   UNKNOWN   \n",
       "4  20160000289384                SEXOFF-OTHER                   UNKNOWN   \n",
       "\n",
       "      Date timing  Year  \n",
       "0  12/1908  night  1908  \n",
       "1  06/1964  night  1964  \n",
       "2  01/1973  night  1973  \n",
       "3  06/1974  night  1974  \n",
       "4  01/1975  night  1975  "
      ]
     },
     "execution_count": 28,
     "metadata": {},
     "output_type": "execute_result"
    }
   ],
   "source": [
    "crime.head()"
   ]
  },
  {
   "cell_type": "code",
   "execution_count": 55,
   "metadata": {},
   "outputs": [],
   "source": [
    "total_crime = crime[['Year', 'report_id']].groupby('Year', as_index = False).count()"
   ]
  },
  {
   "cell_type": "code",
   "execution_count": 78,
   "metadata": {},
   "outputs": [
    {
     "data": {
      "text/plain": [
       "0     1908\n",
       "1     1964\n",
       "2     1973\n",
       "3     1974\n",
       "4     1975\n",
       "5     1976\n",
       "6     1977\n",
       "7     1978\n",
       "8     1979\n",
       "9     1980\n",
       "10    1981\n",
       "11    1985\n",
       "12    1986\n",
       "13    1987\n",
       "14    1988\n",
       "15    1989\n",
       "16    1990\n",
       "17    1991\n",
       "18    1993\n",
       "19    1994\n",
       "20    1995\n",
       "21    1996\n",
       "22    1997\n",
       "23    1998\n",
       "24    1999\n",
       "25    2000\n",
       "26    2001\n",
       "27    2002\n",
       "28    2003\n",
       "29    2004\n",
       "30    2005\n",
       "31    2006\n",
       "32    2007\n",
       "33    2008\n",
       "34    2009\n",
       "35    2010\n",
       "36    2011\n",
       "37    2012\n",
       "38    2013\n",
       "39    2014\n",
       "40    2015\n",
       "41    2016\n",
       "42    2017\n",
       "43    2018\n",
       "44    2019\n",
       "Name: Year, dtype: int64"
      ]
     },
     "execution_count": 78,
     "metadata": {},
     "output_type": "execute_result"
    }
   ],
   "source": [
    "total_crime.rename(columns={'report_id': 'total_crime'})"
   ]
  },
  {
   "cell_type": "code",
   "execution_count": 92,
   "metadata": {},
   "outputs": [
    {
     "data": {
      "text/plain": [
       "Text(0.5, 1.0, 'Total Crime by Year')"
      ]
     },
     "execution_count": 92,
     "metadata": {},
     "output_type": "execute_result"
    },
    {
     "data": {
      "image/png": "[encoded data removed]",
      "text/plain": [
       "<Figure size 432x288 with 1 Axes>"
      ]
     },
     "metadata": {
      "needs_background": "light"
     },
     "output_type": "display_data"
    }
   ],
   "source": [
    "total_crime['Year'] = pd.to_numeric(total_crime['Year'])\n",
    "total_crime_after_2008 = total_crime[(total_crime['Year'] > 2007) & (total_crime['Year'] < 2019)]\n",
    "x = total_crime_after_2008['Year']\n",
    "y = total_crime_after_2008['report_id']\n",
    "plt.plot(x, y)\n",
    "plt.xlabel(\"Year\")\n",
    "plt.ylabel(\"Total Crime\")\n",
    "plt.title(\"Total Crime by Year\")"
   ]
  },
  {
   "cell_type": "code",
   "execution_count": 107,
   "metadata": {},
   "outputs": [],
   "source": [
    "total_crime_by_time = crime[['timing', 'report_id']].groupby('timing', as_index = False).count()"
   ]
  },
  {
   "cell_type": "code",
   "execution_count": 109,
   "metadata": {},
   "outputs": [
    {
     "data": {
      "text/plain": [
       "Text(0.5, 1.0, 'Crime Occurence in Each Part of the Day')"
      ]
     },
     "execution_count": 109,
     "metadata": {},
     "output_type": "execute_result"
    },
    {
     "data": {
      "image/png": "[encoded data removed]",
      "text/plain": [
       "<Figure size 432x288 with 1 Axes>"
      ]
     },
     "metadata": {
      "needs_background": "light"
     },
     "output_type": "display_data"
    }
   ],
   "source": [
    "x = ['morning', 'afternoon', 'night']\n",
    "y = total_crime_by_time['report_id']\n",
    "plt.plot(x, y)\n",
    "plt.xlabel(\"Part of the Day\")\n",
    "plt.ylabel(\"Total Crimes\")\n",
    "plt.title(\"Crime Occurence in Each Part of the Day\")"
   ]
  },
  {
   "cell_type": "code",
   "execution_count": 64,
   "metadata": {},
   "outputs": [
    {
     "data": {
      "text/html": [
       "<div>\n",
       "<style scoped>\n",
       "    .dataframe tbody tr th:only-of-type {\n",
       "        vertical-align: middle;\n",
       "    }\n",
       "\n",
       "    .dataframe tbody tr th {\n",
       "        vertical-align: top;\n",
       "    }\n",
       "\n",
       "    .dataframe thead th {\n",
       "        text-align: right;\n",
       "    }\n",
       "</style>\n",
       "<table border=\"1\" class=\"dataframe\">\n",
       "  <thead>\n",
       "    <tr style=\"text-align: right;\">\n",
       "      <th></th>\n",
       "      <th>timing</th>\n",
       "      <th>report_id</th>\n",
       "    </tr>\n",
       "  </thead>\n",
       "  <tbody>\n",
       "    <tr>\n",
       "      <th>0</th>\n",
       "      <td>afternoon</td>\n",
       "      <td>118038</td>\n",
       "    </tr>\n",
       "    <tr>\n",
       "      <th>1</th>\n",
       "      <td>morning</td>\n",
       "      <td>99009</td>\n",
       "    </tr>\n",
       "    <tr>\n",
       "      <th>2</th>\n",
       "      <td>night</td>\n",
       "      <td>306542</td>\n",
       "    </tr>\n",
       "  </tbody>\n",
       "</table>\n",
       "</div>"
      ],
      "text/plain": [
       "      timing  report_id\n",
       "0  afternoon     118038\n",
       "1    morning      99009\n",
       "2      night     306542"
      ]
     },
     "execution_count": 64,
     "metadata": {},
     "output_type": "execute_result"
    }
   ],
   "source": [
    "total_crime_by_time"
   ]
  },
  {
   "cell_type": "code",
   "execution_count": 84,
   "metadata": {},
   "outputs": [
    {
     "data": {
      "text/html": [
       "<div>\n",
       "<style scoped>\n",
       "    .dataframe tbody tr th:only-of-type {\n",
       "        vertical-align: middle;\n",
       "    }\n",
       "\n",
       "    .dataframe tbody tr th {\n",
       "        vertical-align: top;\n",
       "    }\n",
       "\n",
       "    .dataframe thead th {\n",
       "        text-align: right;\n",
       "    }\n",
       "</style>\n",
       "<table border=\"1\" class=\"dataframe\">\n",
       "  <thead>\n",
       "    <tr style=\"text-align: right;\">\n",
       "      <th></th>\n",
       "      <th>Year</th>\n",
       "      <th>report_id</th>\n",
       "    </tr>\n",
       "  </thead>\n",
       "  <tbody>\n",
       "    <tr>\n",
       "      <th>33</th>\n",
       "      <td>2008</td>\n",
       "      <td>42793</td>\n",
       "    </tr>\n",
       "    <tr>\n",
       "      <th>34</th>\n",
       "      <td>2009</td>\n",
       "      <td>45056</td>\n",
       "    </tr>\n",
       "    <tr>\n",
       "      <th>35</th>\n",
       "      <td>2010</td>\n",
       "      <td>43353</td>\n",
       "    </tr>\n",
       "    <tr>\n",
       "      <th>36</th>\n",
       "      <td>2011</td>\n",
       "      <td>41298</td>\n",
       "    </tr>\n",
       "    <tr>\n",
       "      <th>37</th>\n",
       "      <td>2012</td>\n",
       "      <td>41007</td>\n",
       "    </tr>\n",
       "    <tr>\n",
       "      <th>38</th>\n",
       "      <td>2013</td>\n",
       "      <td>45551</td>\n",
       "    </tr>\n",
       "    <tr>\n",
       "      <th>39</th>\n",
       "      <td>2014</td>\n",
       "      <td>49322</td>\n",
       "    </tr>\n",
       "    <tr>\n",
       "      <th>40</th>\n",
       "      <td>2015</td>\n",
       "      <td>47693</td>\n",
       "    </tr>\n",
       "    <tr>\n",
       "      <th>41</th>\n",
       "      <td>2016</td>\n",
       "      <td>49220</td>\n",
       "    </tr>\n",
       "    <tr>\n",
       "      <th>42</th>\n",
       "      <td>2017</td>\n",
       "      <td>50334</td>\n",
       "    </tr>\n",
       "    <tr>\n",
       "      <th>43</th>\n",
       "      <td>2018</td>\n",
       "      <td>51302</td>\n",
       "    </tr>\n",
       "    <tr>\n",
       "      <th>44</th>\n",
       "      <td>2019</td>\n",
       "      <td>15624</td>\n",
       "    </tr>\n",
       "  </tbody>\n",
       "</table>\n",
       "</div>"
      ],
      "text/plain": [
       "    Year  report_id\n",
       "33  2008      42793\n",
       "34  2009      45056\n",
       "35  2010      43353\n",
       "36  2011      41298\n",
       "37  2012      41007\n",
       "38  2013      45551\n",
       "39  2014      49322\n",
       "40  2015      47693\n",
       "41  2016      49220\n",
       "42  2017      50334\n",
       "43  2018      51302\n",
       "44  2019      15624"
      ]
     },
     "execution_count": 84,
     "metadata": {},
     "output_type": "execute_result"
    }
   ],
   "source": [
    "total_crime_after_2008"
   ]
  },
  {
   "cell_type": "code",
   "execution_count": 85,
   "metadata": {},
   "outputs": [
    {
     "data": {
      "text/plain": [
       "15624"
      ]
     },
     "execution_count": 85,
     "metadata": {},
     "output_type": "execute_result"
    }
   ],
   "source": []
  },
  {
   "cell_type": "code",
   "execution_count": null,
   "metadata": {},
   "outputs": [],
   "source": []
  }
 ],
 "metadata": {
  "kernelspec": {
   "display_name": "Python 3",
   "language": "python",
   "name": "python3"
  },
  "language_info": {
   "codemirror_mode": {
    "name": "ipython",
    "version": 3
   },
   "file_extension": ".py",
   "mimetype": "text/x-python",
   "name": "python",
   "nbconvert_exporter": "python",
   "pygments_lexer": "ipython3",
   "version": "3.7.1"
  }
 },
 "nbformat": 4,
 "nbformat_minor": 2
}
